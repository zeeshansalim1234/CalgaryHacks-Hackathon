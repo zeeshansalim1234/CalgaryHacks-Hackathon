{
  "nbformat": 4,
  "nbformat_minor": 0,
  "metadata": {
    "colab": {
      "name": "Pachira_nan_reco.ipynb",
      "provenance": [],
      "collapsed_sections": [],
      "authorship_tag": "ABX9TyPUZaw9MXNhM28HgkTCgXrf",
      "include_colab_link": true
    },
    "kernelspec": {
      "name": "python3",
      "display_name": "Python 3"
    },
    "language_info": {
      "name": "python"
    },
    "accelerator": "GPU"
  },
  "cells": [
    {
      "cell_type": "markdown",
      "metadata": {
        "id": "view-in-github",
        "colab_type": "text"
      },
      "source": [
        "<a href=\"https://colab.research.google.com/github/zeeshansalim1234/CalgaryHacks-Hackathon/blob/main/Pachira_nan_reco.ipynb\" target=\"_parent\"><img src=\"https://colab.research.google.com/assets/colab-badge.svg\" alt=\"Open In Colab\"/></a>"
      ]
    },
    {
      "cell_type": "markdown",
      "metadata": {
        "id": "LJ6B6YcUWe0i"
      },
      "source": [
        "# Installing & Importing the required libraries\n"
      ]
    },
    {
      "cell_type": "code",
      "metadata": {
        "id": "u4BGGhFHu2zA",
        "cellView": "code"
      },
      "source": [
        "\n",
        "!pip install sentence-transformers\n",
        "!pip install tweepy\n",
        "!pip install bert-extractive-summarizer\n",
        "!pip install nltk\n",
        "!pip install google-cloud-vision"
      ],
      "execution_count": null,
      "outputs": []
    },
    {
      "cell_type": "code",
      "metadata": {
        "id": "BomJLNYUvBDJ"
      },
      "source": [
        "import pandas as pd\n",
        "import json\n",
        "import os\n",
        "from sentence_transformers import SentenceTransformer, util\n",
        "from google.colab import drive\n",
        "import tweepy\n",
        "import re\n",
        "import os,io\n",
        "from google.cloud import vision\n",
        "from google.cloud.vision_v1 import types\n",
        "import pandas as pd\n",
        "import nltk\n",
        "\n",
        "ACCESS_TOKEN=\"1401579178072231936-98mY1wOw1UR3GHOjdo4ePnfdfUHt6n\"\n",
        "ACESS_TOKEN_SECRET=\"QiIslicgx8GNGrGDPrx8xNZc2WoCyrUsZumgXSyGzGLOx\"\n",
        "CONSUMER_KEY=\"uaiStuv7EYdYxWSomPKHvSSF5\"\n",
        "CONSUMER_SECRET=\"JOQryy37w9HPMSrSw8msyyb048iqeHmK4xCRyWP1oBhLKwLYlb\"\n",
        "\n",
        "auth=tweepy.OAuthHandler(CONSUMER_KEY,CONSUMER_SECRET)\n",
        "auth.set_access_token(ACCESS_TOKEN,ACESS_TOKEN_SECRET)\n",
        "api=tweepy.API(auth)\n",
        "\n",
        "#os.environ['GOOGLE_APPLICATION_CREDENTIALS'] = 'seismic-diorama-316110-5569927e0d86.json'\n",
        "#client = vision.ImageAnnotatorClient()"
      ],
      "execution_count": 29,
      "outputs": []
    },
    {
      "cell_type": "markdown",
      "metadata": {
        "id": "dB4SDfRvXK_M"
      },
      "source": [
        "# Function for pre-processing data (A list of Strings should be passed as the argument)"
      ]
    },
    {
      "cell_type": "code",
      "metadata": {
        "id": "APH1nS4lvCOn"
      },
      "source": [
        "def pre_process(tweets):\n",
        "\n",
        "    for i in range(0, len(tweets)):\n",
        "\n",
        "        if (tweets[i] is not None):\n",
        "\n",
        "            if(tweets[i]!=tweets[i]):\n",
        "                tweets[i]=\"\"\n",
        "\n",
        "            tweets[i] = tweets[i].lower()  # To lower case\n",
        "            tweets[i] = tweets[i].replace('@','')  # remove @\n",
        "            tweets[i] = tweets[i].replace('#','')  # remove #\n",
        "            tweets[i] = remove_urls(tweets[i])  # remove URL\n",
        "            tweets[i] = remove_emojis(tweets[i])  # remove emojis\n",
        "            tweets[i] = \"\".join(j for j in tweets[i] if j not in (\n",
        "            \"?\", \".\", \";\", \":\", \"!\", \"-\", \",\", \"[\", \"]\", \"(\", \")\", \"’\", \"‘\", '\"', \"$\", \"'\", \"“\", \"”\", \"•\", \"=\", \"+\",\n",
        "            \"%\", \"/\", \"&\", \"|\", \"~\"))  # remove punctuations\n",
        "            tweets[i] = removeNonEnglishWordsFunct(tweets[i])\n",
        "\n",
        "    return tweets\n",
        "\n",
        "def remove_urls (str):    # Removes URL from strings\n",
        "\n",
        "    str = re.sub(r'(https|http)?:\\/\\/(\\w|\\.|\\/|\\?|\\=|\\&|\\%)*\\b', '', str, flags=re.MULTILINE)\n",
        "    return(str)\n",
        "\n",
        "\n",
        "def remove_emojis(data):  # Removes Emojis from strings\n",
        "\n",
        "    emoji = re.compile(\"[\"\n",
        "        u\"\\U0001F600-\\U0001F64F\"  # emoticons\n",
        "        u\"\\U0001F300-\\U0001F5FF\"  # symbols & pictographs\n",
        "        u\"\\U0001F680-\\U0001F6FF\"  # transport & map symbols\n",
        "        u\"\\U0001F1E0-\\U0001F1FF\"  # flags (iOS)\n",
        "        u\"\\U00002500-\\U00002BEF\"  # chinese char\n",
        "        u\"\\U00002702-\\U000027B0\"\n",
        "        u\"\\U00002702-\\U000027B0\"\n",
        "        u\"\\U000024C2-\\U0001F251\"\n",
        "        u\"\\U0001f926-\\U0001f937\"\n",
        "        u\"\\U00010000-\\U0010ffff\"\n",
        "        u\"\\u2640-\\u2642\" \n",
        "        u\"\\u2600-\\u2B55\"\n",
        "        u\"\\u200d\"\n",
        "        u\"\\u23cf\"\n",
        "        u\"\\u23e9\"\n",
        "        u\"\\u231a\"\n",
        "        u\"\\ufe0f\"  # dingbats\n",
        "        u\"\\u3030\"\n",
        "                      \"]+\", re.UNICODE)\n",
        "    return re.sub(emoji, '', data)\n",
        "\n",
        "def removeNonEnglishWordsFunct(x):  # Remove non-rnglish characters from strings\n",
        "\n",
        "    new_string=re.sub('[^a-zA-Z0-9]',' ',x)\n",
        "\n",
        "    cleaned_string=re.sub('\\s+',' ',new_string)\n",
        "    return cleaned_string"
      ],
      "execution_count": 30,
      "outputs": []
    },
    {
      "cell_type": "markdown",
      "metadata": {
        "id": "xVKXu8VIZj8G"
      },
      "source": [
        "# Extracting charitable organisation data from Pachira dataset and generating embedding using Specter ML model"
      ]
    },
    {
      "cell_type": "code",
      "metadata": {
        "colab": {
          "base_uri": "https://localhost:8080/"
        },
        "id": "O_Kp7NqBvCRO",
        "outputId": "e34100d3-3d2d-43eb-df6f-93a8590a9fc6"
      },
      "source": [
        "import numpy as np\n",
        "df = pd.read_csv('/content/charities_bc.csv') #reading from csv file and creating a pandas dataset\n",
        "\n",
        "df = df.dropna() #dropping blank rows\n",
        "\n",
        "charities=df.CharityName.values+\" \"+df.OngoingPrograms.values # charities list hold the organisation names and description\n",
        "cities=df.City.values #cities list holds city names\n",
        "\n",
        "print(len(charities), \"Charities\")\n",
        "\n",
        "#We then load the allenai-specter model with SentenceTransformers\n",
        "model = SentenceTransformer('allenai-specter')   # loading specter model\n",
        "\n",
        "#To encode the descriptions to a single string\n",
        "charity_texts = [charity for charity in charities]\n",
        "cities_texts=[city for city in cities]\n",
        "\n",
        "#Compute embeddings for all descriptions\n",
        "corpus_embeddings = model.encode(charity_texts, convert_to_tensor=True)  # generating embeddings using charities name and description\n"
      ],
      "execution_count": 31,
      "outputs": [
        {
          "output_type": "stream",
          "text": [
            "2086 Charities\n"
          ],
          "name": "stdout"
        }
      ]
    },
    {
      "cell_type": "markdown",
      "metadata": {
        "id": "Xy85nx4TakUz"
      },
      "source": [
        "# Function to find all charities in the same location which is passed as the argument (pass a string as location)"
      ]
    },
    {
      "cell_type": "code",
      "metadata": {
        "id": "-Mgn_3eXvCTr"
      },
      "source": [
        "\n",
        "# Returns all charities at the provided location\n",
        "\n",
        "def search_papers_location(location):\n",
        "\n",
        "   results=[]\n",
        "   for i in range(0,len(cities_texts)):\n",
        "     if(cities_texts[i]==location):\n",
        "       results.append(i)\n",
        "   return results\n",
        "\n",
        "  "
      ],
      "execution_count": 33,
      "outputs": []
    },
    {
      "cell_type": "markdown",
      "metadata": {
        "id": "8EhO9bTTa-B3"
      },
      "source": [
        "# Randomly generating 100 priority charities (Replace with actual priority charities when provided by Pachira)"
      ]
    },
    {
      "cell_type": "code",
      "metadata": {
        "id": "YfFP0dtAvCWI",
        "colab": {
          "base_uri": "https://localhost:8080/"
        },
        "outputId": "d1251e14-af47-4e0c-fd7c-ab8599b2fe00"
      },
      "source": [
        "# Generates 100 random charities as the priority\n",
        "\n",
        "import random\n",
        "from termcolor import colored\n",
        "\n",
        "#Generate 5 random numbers between 10 and 30\n",
        "priority = random.sample(range(0, 1520), 100)\n",
        "print(priority)\n"
      ],
      "execution_count": 34,
      "outputs": [
        {
          "output_type": "stream",
          "text": [
            "[72, 661, 527, 442, 253, 11, 301, 1091, 776, 1076, 634, 696, 1211, 749, 733, 1477, 693, 1145, 1426, 216, 880, 95, 662, 556, 1317, 64, 1413, 1090, 476, 470, 1151, 969, 1143, 312, 1294, 1349, 1231, 58, 365, 43, 677, 896, 479, 653, 808, 1024, 382, 397, 897, 823, 1221, 1333, 353, 310, 756, 1017, 658, 417, 739, 1303, 1141, 533, 1239, 795, 906, 143, 167, 692, 491, 245, 1069, 744, 295, 1133, 1433, 690, 440, 481, 406, 1099, 856, 667, 1192, 968, 1453, 264, 1467, 186, 196, 1012, 622, 1071, 977, 355, 1118, 738, 457, 618, 114, 583]\n"
          ],
          "name": "stdout"
        }
      ]
    },
    {
      "cell_type": "markdown",
      "metadata": {
        "id": "4yOQly5FbOWA"
      },
      "source": [
        "# Stores the charities recommendations for the passed string argument in a list (Only for priority charities)"
      ]
    },
    {
      "cell_type": "code",
      "metadata": {
        "id": "vnHkXC1nvCYv"
      },
      "source": [
        "# For generating recommendations for priority organizations\n",
        "\n",
        "def generate_priority(title):\n",
        "\n",
        "   query_embedding = model.encode(title+'[SEP]', convert_to_tensor=True) # Converts to tensor\n",
        "   search_hits = util.semantic_search(query_embedding, corpus_embeddings,top_k=10) # Generates a 2D matrix that contains the id and similarity score of the top 10 matching charities\n",
        "   search_hits = search_hits[0]\n",
        "   \n",
        "   count = 0\n",
        "   top_header = \"\\n\\nPriority Charities\\n\\n\"\n",
        "   print(colored(top_header,'yellow'))\n",
        "\n",
        "   flag=0\n",
        "\n",
        "   for hit in search_hits:\n",
        "\n",
        "          for i in range(0,len(priority)):\n",
        "            if(hit['corpus_id']==priority[i]):   # checks if the charity in top 10 is a part of the priority charities\n",
        "              flag=1\n",
        "              break\n",
        "\n",
        "          if(flag==1 and search_hits[count]['score']>0.70):\n",
        "            related_charities = charities[hit['corpus_id']]\n",
        "            count += 1\n",
        "            subsetDataFrame = df[df['CharityName']+\" \"+df['OngoingPrograms']== related_charities]\n",
        "            k=subsetDataFrame.values\n",
        "\n",
        "            print(\"\\n\"+str(count)+\") \"+colored(str(k[0][0]), 'red'))\n",
        "            print(\"similiarity score of \" + str(format(search_hits[count]['score'],\".2f\")))\n",
        "            print(\"Description of charity : \" +related_charities+\" \"+cities_texts[hit['corpus_id']])\n",
        "            flag=0\n",
        "            count+=1\n"
      ],
      "execution_count": 35,
      "outputs": []
    },
    {
      "cell_type": "markdown",
      "metadata": {
        "id": "x3vYt-ltcYCW"
      },
      "source": [
        "# Stores the charities recommendations for the passed string argument in a list (for all charities)"
      ]
    },
    {
      "cell_type": "code",
      "metadata": {
        "id": "rxcKygNLvCbi"
      },
      "source": [
        "\n",
        "# For Generating recommendation for all organizations\n",
        "\n",
        "def search_papers(title,city_indices,status,num_results):\n",
        "\n",
        "   #status signifies city 0 is city based\n",
        "   #num_results signifies the number of results we wish to generate\n",
        "\n",
        "   query_embedding = model.encode(title+'[SEP]', convert_to_tensor=True) # Converts to tensor\n",
        "   search_hits = util.semantic_search(query_embedding, corpus_embeddings,top_k=10)\n",
        "   search_hits = search_hits[0]\n",
        "   \n",
        "   count = 0\n",
        "   flag=0\n",
        "   tracker=0 #basically counter for the non location segment\n",
        "\n",
        "   check_numreco_tracker=0  #to track the number of location based reco\n",
        "\n",
        "   for hit in search_hits:\n",
        "        \n",
        "        if(status==0) :\n",
        "\n",
        "          for i in range(0,len(city_indices)):\n",
        "            if(hit['corpus_id']==city_indices[i]):\n",
        "              flag=1\n",
        "              break\n",
        "\n",
        "          if(flag==1 and search_hits[count]['score']>=0.80):\n",
        "\n",
        "            related_charities = charities[hit['corpus_id']]\n",
        "            subsetDataFrame = df[df['CharityName']+\" \"+df['OngoingPrograms']== related_charities]\n",
        "            k=subsetDataFrame.values\n",
        "            \n",
        "\n",
        "            print(\"\\n\"+str(check_numreco_tracker+1)+\") \"+colored(str(k[0][0]), 'red'))\n",
        "            all_names.append(str(k[0][0]))\n",
        "            print(\"similiarity score of \" + str(format(search_hits[count]['score'],\".2f\")))\n",
        "            all_scores.append(search_hits[count]['score'])\n",
        "            print(\"Description of charity : \" +related_charities+\" \"+cities_texts[hit['corpus_id']])\n",
        "            all_descriptions.append(related_charities+\" \"+cities_texts[hit['corpus_id']])\n",
        "            check_numreco_tracker+=1 #to add the number of reco with location\n",
        "            flag=0\n",
        "\n",
        "        else:\n",
        "\n",
        "          if(tracker<num_results): #For normal non-location based (passed blank array in the function call at end) \n",
        "\n",
        "            if(len(city_indices)==0 and search_hits[count]['score']>=0.80):\n",
        "\n",
        "              related_charities = charities[hit['corpus_id']]\n",
        "              subsetDataFrame = df[df['CharityName']+\" \"+df['OngoingPrograms'] == related_charities]\n",
        "              k=subsetDataFrame.values       \n",
        "              print(\"\\n\"+str(tracker+1)+\") \"+colored(str(k[0][0]), 'red'))\n",
        "              all_names.append(str(k[0][0]))\n",
        "              print(\"similiarity score of \" + str(format(search_hits[count]['score'],\".2f\")))\n",
        "              all_scores.append(search_hits[count]['score'])\n",
        "              print(\"Description of charity : \" +related_charities+\" \"+cities_texts[hit['corpus_id']])\n",
        "              all_descriptions.append(related_charities+\" \"+cities_texts[hit['corpus_id']])\n",
        "              flag=0\n",
        "              tracker+=1\n",
        "\n",
        "            elif(len(city_indices)!=0 and cities_texts[hit['corpus_id']]!=cities_texts[city_indices[0]]): #for recursice location based (non-location recos)\n",
        "\n",
        "              related_charities = charities[hit['corpus_id']]\n",
        "              subsetDataFrame = df[df['CharityName']+\" \"+df['OngoingPrograms'] == related_charities]\n",
        "              k=subsetDataFrame.values       \n",
        "              print(\"\\n\"+str(6-num_results+tracker)+\") \"+colored(str(k[0][0]), 'red'))\n",
        "              all_names.append(str(k[0][0]))\n",
        "              print(\"similiarity score of \" + str(format(search_hits[count]['score'],\".2f\")))\n",
        "              all_scores.append(search_hits[count]['score'])\n",
        "              print(\"Description of charity : \" +related_charities+\" \"+cities_texts[hit['corpus_id']])\n",
        "              all_descriptions.append(related_charities+\" \"+cities_texts[hit['corpus_id']])\n",
        "              flag=0\n",
        "              tracker+=1\n",
        "\n",
        "        count+=1 #keep track of elements in search_hits\n",
        "\n",
        "   if(status==0): \n",
        "\n",
        "     search_papers(title,city_indices,1,5-check_numreco_tracker)  # now sending non-location based reco if didnt reach top 5 already\n",
        "\n",
        "\n",
        "#search_papers(\"alberta wins reddeer sisters donate land to nature conservancy of canada ncc preserve a haven for species wildlife ruth dorothy bower donate 193 hectares of land on the west bank of the reddeer river bowerwildlifesanctuary\",[],1,10)\n",
        "\n",
        "#want to make a big impact donations made through birdies4kids for the alberta diabetes foundation are matched up to 50  birdies for kids runs until august 15th 2021  to donate and read more \n",
        "\n",
        "#alberta wins reddeer sisters donate land to nature conservancy of canada ncc preserve a haven for species wildlife ruth dorothy bower donate 193 hectares of land on the west bank of the reddeer river bowerwildlifesanctuary\n",
        "\n",
        "#in the news the kidney foundation encourages other canadian organizations and companies to to adopt policies to support living organdonors read more about kidneycanada s wage replacement policy for living organ and tissue donation\n",
        "\n",
        "#participate in the scotiabank calgary marathon charity challenge to help children amp families at childrens cottage society theres an event for everyone of all abilities register or donate at  thanks for your consideration children families \n",
        "\n",
        "#can you help us many children need their very own books strong reading role models amp safe fun reading spaces your donation helps more children experience the magic of reading amp a lifetime of opportunity "
      ],
      "execution_count": 52,
      "outputs": []
    },
    {
      "cell_type": "markdown",
      "metadata": {
        "id": "ffmaW0mHdI2e"
      },
      "source": [
        "# Using Google PyTrends API to get trending topics"
      ]
    },
    {
      "cell_type": "code",
      "metadata": {
        "id": "UspOpeIy6WtZ",
        "colab": {
          "base_uri": "https://localhost:8080/"
        },
        "outputId": "089b38fb-4664-4a50-89d2-190d244ddb95"
      },
      "source": [
        "pip install pytrends\n"
      ],
      "execution_count": 37,
      "outputs": [
        {
          "output_type": "stream",
          "text": [
            "Requirement already satisfied: pytrends in /usr/local/lib/python3.7/dist-packages (4.7.3)\n",
            "Requirement already satisfied: pandas>=0.25 in /usr/local/lib/python3.7/dist-packages (from pytrends) (1.1.5)\n",
            "Requirement already satisfied: lxml in /usr/local/lib/python3.7/dist-packages (from pytrends) (4.2.6)\n",
            "Requirement already satisfied: requests in /usr/local/lib/python3.7/dist-packages (from pytrends) (2.23.0)\n",
            "Requirement already satisfied: pytz>=2017.2 in /usr/local/lib/python3.7/dist-packages (from pandas>=0.25->pytrends) (2018.9)\n",
            "Requirement already satisfied: numpy>=1.15.4 in /usr/local/lib/python3.7/dist-packages (from pandas>=0.25->pytrends) (1.19.5)\n",
            "Requirement already satisfied: python-dateutil>=2.7.3 in /usr/local/lib/python3.7/dist-packages (from pandas>=0.25->pytrends) (2.8.2)\n",
            "Requirement already satisfied: six>=1.5 in /usr/local/lib/python3.7/dist-packages (from python-dateutil>=2.7.3->pandas>=0.25->pytrends) (1.15.0)\n",
            "Requirement already satisfied: urllib3!=1.25.0,!=1.25.1,<1.26,>=1.21.1 in /usr/local/lib/python3.7/dist-packages (from requests->pytrends) (1.24.3)\n",
            "Requirement already satisfied: certifi>=2017.4.17 in /usr/local/lib/python3.7/dist-packages (from requests->pytrends) (2021.5.30)\n",
            "Requirement already satisfied: idna<3,>=2.5 in /usr/local/lib/python3.7/dist-packages (from requests->pytrends) (2.10)\n",
            "Requirement already satisfied: chardet<4,>=3.0.2 in /usr/local/lib/python3.7/dist-packages (from requests->pytrends) (3.0.4)\n"
          ],
          "name": "stdout"
        }
      ]
    },
    {
      "cell_type": "code",
      "metadata": {
        "id": "GhcEvvQ76YqP",
        "colab": {
          "base_uri": "https://localhost:8080/"
        },
        "outputId": "22de78b6-8f9b-4c07-cbfc-62adc53ba933"
      },
      "source": [
        "from pytrends.request import TrendReq\n",
        "\n",
        "pytrends = TrendReq(hl='en-US') #specify language\n",
        "\n",
        "\"\"\"\n",
        "data=pytrends.trending_searches('canada')\n",
        "print(data[0].loc[0])\n",
        "\"\"\"\n",
        "\n",
        "pytrends.build_payload(kw_list=['protest'],geo='CA',timeframe='today 1-m')  # generate the query\n",
        "related_queries = pytrends.related_queries()\n",
        "result=list(related_queries.values())\n",
        "query=list(result[0].values())[1]\n",
        "#query=\"Women's soccer final\"\n",
        "print(query)\n",
        "\n",
        "#search_papers(query,[],1,5)\n",
        "\n",
        "#list(result[0].values())[1].loc[0].at['query']"
      ],
      "execution_count": 38,
      "outputs": [
        {
          "output_type": "stream",
          "text": [
            "None\n"
          ],
          "name": "stdout"
        }
      ]
    },
    {
      "cell_type": "code",
      "metadata": {
        "id": "RRNomQ5F4HDG"
      },
      "source": [
        "#df = pytrends.trending_searches(pn='canada')\n",
        "#df.head()"
      ],
      "execution_count": 39,
      "outputs": []
    },
    {
      "cell_type": "markdown",
      "metadata": {
        "id": "1MIldqPwdWXt"
      },
      "source": [
        "# Menu to generate :\n",
        "#  1. Trending Charities Recommendation\n",
        "#  2. Priority Charities Recommendation\n",
        "#  3. General Chairities Recommendation\n",
        "\n",
        "#  for each individual sentence provided from a conversation."
      ]
    },
    {
      "cell_type": "code",
      "metadata": {
        "id": "rQthF28ovCeu",
        "colab": {
          "base_uri": "https://localhost:8080/"
        },
        "outputId": "2fd969ef-fdd1-4e3f-ddb1-29cd2338aad2"
      },
      "source": [
        "print(\"What basis do you want to generate a recommendation on ? \")\n",
        "print(\"\\n1. Enter a sentence  \")\n",
        "print(\"2. Trending tweet on a particular hashtag \")\n",
        "choice=input(\"Enter your choice : \")\n",
        "\n",
        "if(choice==\"1\"):\n",
        "\n",
        "  title=input(\"\\nEnter a sentence : \")\n",
        "  enable_loc=str(input(\"Do you wish to enable location ? \"))\n",
        "  if(enable_loc==\"yes\"):\n",
        "    location=str(input(\"Enter location : \"))\n",
        "\n",
        "  pytrends = TrendReq(hl='en-US') #specify language\n",
        "  pytrends.build_payload(kw_list=['nature'],geo='CA',timeframe=\"now 7-d\")  # generate the query\n",
        "  related_queries = pytrends.related_queries()\n",
        "  result=list(related_queries.values())\n",
        "  query=list(result[0].values())[1].loc[2].at['query']\n",
        "  print(\"\\n\"+query)\n",
        "  \n",
        "  top_header = \"\\n\\nPopular in your Region\\n\\n\"\n",
        "  print(colored(top_header,'magenta'))\n",
        "  #search_papers(query,[],1,5)\n",
        "  \n",
        "\n",
        "  if(enable_loc==\"yes\"):\n",
        "\n",
        "    status=0\n",
        "    loc_indices=search_papers_location(location)\n",
        "    generate_priority(title)\n",
        "    top_header = \"\\n\\nTop related charities\\n\\n\"\n",
        "    print(colored(top_header,'blue'))\n",
        "    search_papers(title,loc_indices,status,10)\n",
        "\n",
        "  else:\n",
        "\n",
        "    \n",
        "    temp=[]\n",
        "    status=1\n",
        "    generate_priority(title)\n",
        "    top_header = \"\\n\\nTop related charities\\n\\n\"\n",
        "    print(colored(top_header,'blue'))\n",
        "    search_papers(title,temp,status,10)\n",
        "\n",
        "elif(choice==\"2\"):\n",
        "\n",
        "  tag = input(\"\\nEnter a hashtag : \")\n",
        "  tweets=tweepy.Cursor(api.search,q=tag,result_type='popular',tweet_mode=\"extended\").items(1)\n",
        "  temp=[]\n",
        "  for tweet in tweets :\n",
        "\n",
        "      temp.append(tweet.full_text)\n",
        "\n",
        "  temp=pre_process(temp)\n",
        "  tweet=temp[0]\n",
        "  print(\"\\nMost famous tweet : \\n\"+colored(tweet,'orange'))\n",
        "  search_papers(tweet)\n"
      ],
      "execution_count": 54,
      "outputs": [
        {
          "output_type": "stream",
          "text": [
            "What basis do you want to generate a recommendation on ? \n",
            "\n",
            "1. Enter a sentence  \n",
            "2. Trending tweet on a particular hashtag \n",
            "Enter your choice : 1\n",
            "\n",
            "Enter a sentence : in the news the kidney foundation encourages other canadian organizations and companies to to adopt policies to support living organdonors read more about kidneycanada s wage replacement policy for living organ and tissue donation\n",
            "Do you wish to enable location ? no\n",
            "\n",
            "where was nature of love filmed\n",
            "\u001b[35m\n",
            "\n",
            "Popular in your Region\n",
            "\n",
            "\u001b[0m\n",
            "\u001b[33m\n",
            "\n",
            "Priority Charities\n",
            "\n",
            "\u001b[0m\n",
            "\u001b[34m\n",
            "\n",
            "Top related charities\n",
            "\n",
            "\u001b[0m\n",
            "\n",
            "1) \u001b[31mBRUCE DENNISTON BONE MARROW SOCIETY\u001b[0m\n",
            "similiarity score of 0.85\n",
            "Description of charity : BRUCE DENNISTON BONE MARROW SOCIETY SUPPORT OF CANADIAN BLOOD SERVICES' STEM CELL REGISTRY, BY EDUCATING THE PUBLIC ABOUT THE NEED FOR REGISTERED DONORS. OUR VOLUNTEER STEM CELL AND BONE MARROW COURIERS TRAVEL THE WORLD TO TRANSPORT STEM CELLS TO HOSPITALS IN CANADA WHERE PATIENTS ARE AWAITING A LIFE-SAVING STEM CELL OR BONE MORROW TRANSPLANT. SHIRTS DESIGNED TO ACCOMODATE CENTRAL LINE ARE PROVIDED TO TRANSPLANT CENTERS, AS IS EQUIPMENT REQUIRED FOR THE SAFE TRANSPORT OF STEM CELLS AND BONE MARROW. POWELL RIVER\n",
            "\n",
            "2) \u001b[31mCrossroads Hospice (2009) Foundation\u001b[0m\n",
            "similiarity score of 0.84\n",
            "Description of charity : Crossroads Hospice (2009) Foundation THE FOUNDATION COLLECTS DONATIONS AND DISTRIBUTES THE COLLECTED TO OTHER CHARITIES. COQUITLAM\n",
            "\n",
            "3) \u001b[31mMID ISLAND KIDNEY ASSOCIATION\u001b[0m\n",
            "similiarity score of 0.83\n",
            "Description of charity : MID ISLAND KIDNEY ASSOCIATION WE HAVE A SPRING & CHRISTMAS RAFFLE. THE PUB WE HAD A MEAT DRAW EVERY SATURDAY IS NOW CLOSED. OUR GROUP HAS A EASTER BRING & BUY DINNER PORT ALBERNI\n",
            "\n",
            "4) \u001b[31mMISSION HOSPITAL AUXILIARY MEMORIAL FUND\u001b[0m\n",
            "similiarity score of 0.82\n",
            "Description of charity : MISSION HOSPITAL AUXILIARY MEMORIAL FUND THE MEMORIAL FUND CONTINUED TO COLLECT DONATIONS IN 2020 FROM PEOPLE WISHING TO GIVE MONEY TO THE HOSPITAL AND E.C.U. IN MEMORY OF A LOVED ONE. THE NAMES ARE PRINTED IN THE MEMORIAL BOOK. ABBOTSFORD\n",
            "\n",
            "5) \u001b[31mVANCOUVER ISLAND KIDNEY PATIENTS' ASSOCIATION\u001b[0m\n",
            "similiarity score of 0.82\n",
            "Description of charity : VANCOUVER ISLAND KIDNEY PATIENTS' ASSOCIATION Promoting and providing for kidney patients' health and welfare in the following ways:1. Providing equipment for patients which is not provided by Island Health (i.e. dialysis chairs, machines, monitors)2. Providing items for patients to borrow for home use (i.e. portable blood pressure monitors)3. Providing patient comfort items while undergoing dialysis (i.e. TVs, water dispensers, microwaves, blankets)4. Providing for low income patients (i.e. holiday grocery gift cards, emergency funds)5. Awarding bursaries to assist with patient and patient family education6. Providing information to patients and directing them to appropriate resources VICTORIA\n",
            "\n",
            "6) \u001b[31mABBOTSFORD LIONS CLUB CHARITABLE TRUST\u001b[0m\n",
            "similiarity score of 0.81\n",
            "Description of charity : ABBOTSFORD LIONS CLUB CHARITABLE TRUST MADE A DONATION CANUCK PLACE CHILDREN'S HOSPICE. ABBOTSFORD\n"
          ],
          "name": "stdout"
        }
      ]
    },
    {
      "cell_type": "markdown",
      "metadata": {
        "id": "_SkAKPSqegzO"
      },
      "source": [
        "# Extracting artificial conversation history created for a user (**To be replaced with actual user history from Pachira**)"
      ]
    },
    {
      "cell_type": "code",
      "metadata": {
        "colab": {
          "base_uri": "https://localhost:8080/"
        },
        "id": "3vq1KbACQAOj",
        "outputId": "9e84c0d3-8059-45cc-c1b7-fb42d91ebc8c"
      },
      "source": [
        "\n",
        "df_history = pd.read_csv('/content/artificial_conversation.csv',sep=\";\", encoding='mac_roman')\n",
        "\n",
        "#charities =df.CharityName.values+\" \"+df.OngoingPrograms.values\n",
        "\n",
        "print(str(df_history.columns[0]))\n",
        "\n",
        "conversations=df_history.Sentence.values\n",
        "\n",
        "print(conversations)\n",
        "\n"
      ],
      "execution_count": 41,
      "outputs": [
        {
          "output_type": "stream",
          "text": [
            "Sentence\n",
            "['Forest-dependent communities in Laos make almost all of their livelihoods from their forestsí natural resources. Find out how they started seedling nurseries and planting initiatives to restore their essential forests in partnership with WWF-Laos.'\n",
            " 'NSW recorded 356 new locally acquired cases of COVID-19 in the 24 hours to 8pm last night.'\n",
            " \"Thank you, everyone! We raised $232 during today's charity punishment stream. Our donation was enough to send 4 girls to school for a year, thanks to the International Rescue Committee! We also were able to gift a few steam gift cards to chat &have a fun day!\"\n",
            " 'The military junta is the root cause of humanitarian crisis in #Myanmar. The junta has cut all supply routes to #Mindat & IDPs are now at risk of food shortage. In July, the junta has prevented #UNHCR \\n@Refugees\\n from delivering aid to IDPs in #Chin State.'\n",
            " 'Vegetable producer says it is losing thousands of pounds a week and throwing away food due to labour shortage'\n",
            " 'Figure TS.6 is my favourite figure of the main #IPCC report. It illustrates the assessment of climate sensitivity (ECS), the concepts of low-likelihood outcomes & global warming levels (GWLs), how global temperature has changed & is projected to change, with corresponding impacts'\n",
            " 'A powerful partnership with aligned objectives to combat skin cancer in the UK!Itís been great to have the opportunity to introduce Skcin, our objectives & our work to various colleagues across Tesco & deliver several skin cancer prevention & early detection educational sessions!'\n",
            " 'Itís been 1 year of living with Diabetes. \\n\\nHavenít been really easy , yet Iím living life to the fullest . Staying Happy always! \\n\\nThank you to those who have been supporting , pushing me to do better & Praying over me . \\nGrateful & Blessed Red heart'\n",
            " 'in the news the kidney foundation encourages other canadian organizations and companies to to adopt policies to support living organdonors read more about kidneycanada s wage replacement policy for living organ and tissue donation'\n",
            " 'Itís funny how the phrase \"abusing the system\" is thrown around when talking about welfare and food banks, but never for companies like Amazon not paying a living wage while paying zero taxes. \\n\\nAbuse comes from a position of power and privilege, not vulnerability.'\n",
            " 'The slender, bushy-tailed Sierra Nevada red fox will be listed as an endangered species, federal wildlife officials announced, saying its population has dipped to just 40 animals in area of California stretching from Lake Tahoe to south of Yosemite.']\n"
          ],
          "name": "stdout"
        }
      ]
    },
    {
      "cell_type": "markdown",
      "metadata": {
        "id": "DbQyiJKze4D2"
      },
      "source": [
        "# Storing the recommendations from each conversation in the history dataset to be filtered later"
      ]
    },
    {
      "cell_type": "code",
      "metadata": {
        "colab": {
          "base_uri": "https://localhost:8080/"
        },
        "id": "JJYrFQYtR3iB",
        "outputId": "3228eeb6-686e-4958-ad49-941279e52e4d"
      },
      "source": [
        "all_names=[]\n",
        "all_descriptions=[]\n",
        "all_scores=[]\n",
        "\n",
        "for i in range(0,len(conversations)):\n",
        "  print(colored(conversations[i],'magenta'))\n",
        "  search_papers(conversations[i],[],1,10)\n",
        "  print(\"\\n\\n\\n\\n\\n\")\n",
        "\n",
        "\n",
        "\n",
        "print(all_names)\n",
        "print(all_scores)"
      ],
      "execution_count": 43,
      "outputs": [
        {
          "output_type": "stream",
          "text": [
            "\u001b[35mForest-dependent communities in Laos make almost all of their livelihoods from their forestsí natural resources. Find out how they started seedling nurseries and planting initiatives to restore their essential forests in partnership with WWF-Laos.\u001b[0m\n",
            "\n",
            "1) \u001b[31mTHE FOREST BIRD SOCIETY\u001b[0m\n",
            "similiarity score of 0.90\n",
            "Description of charity : THE FOREST BIRD SOCIETY THE ORGANIZATION IS WINDING DOWN DEVELOPMENT OF PROJECTS AND WILL CONCENTRATE IN TRYING TO IMPLEMENT SUCH PROJECTS, IT IS ACTIVELY SEEKING NEW FUNDING FROM NOW ONWARDS. RICHMOND\n",
            "\n",
            "2) \u001b[31mE.I.S.-THE ECOFORESTRY INSTITUTE SOCIETY\u001b[0m\n",
            "similiarity score of 0.90\n",
            "Description of charity : E.I.S.-THE ECOFORESTRY INSTITUTE SOCIETY * Resources and expertise were provided to develop sustainable land use and management plans related to ecologically oriented forestry.*  As holder of the WIldwood Trust,  Wildwood is maintained as per an Ecoforestry Management Plan* 5000 volunteer hours were logged (as we have no staff) to provide education tours to school and university students, forestry-related workers, and tourists, offer ecoforestry workshops, and events, as well as maintaining the Wildwood property. VICTORIA\n",
            "\n",
            "3) \u001b[31mOKANAGAN SIMILKAMEEN PARKS SOCIETY\u001b[0m\n",
            "similiarity score of 0.87\n",
            "Description of charity : OKANAGAN SIMILKAMEEN PARKS SOCIETY ECOSYSTEM MONITORINGBC SOUTH OKANAGAN PROTECTED AREAS ACTIONS TOWARDS ACHIEVING FULL PARK STATUS (BRENT MOUNTAIN, GOAL 2 AREAS) SUMMERLAND\n",
            "\n",
            "4) \u001b[31mDISCOVERY COAST GREENWAYS LAND TRUST\u001b[0m\n",
            "similiarity score of 0.87\n",
            "Description of charity : DISCOVERY COAST GREENWAYS LAND TRUST ESTABLISHING IN 1996, THE MISSION OF GREENWAYS LAND TRUST IS TO RESTORE, SUSTAIN AND PROTECT NATURAL AREAS AND CRITICAL HABITATS, PARTICULARLY ECOLOGICAL AND RECREATIONAL GREENWAYS, FOR THE BENEFIT OF OUR COMMUNITY. OUR VOLUNTEER BOARD IS ACTIVE IN CHAMPIONING ENVIRONMENTAL PROJECTS AND COLLABORATING WITH PARTNERS. GREENWAYS HAS AN EXCELLENT TRACK RECORD IN FACILITATING VOLUNTEERING AND STEWARDSHIP AMONG COMMUNITY MEMBERS AND SCHOOL STUDENTS, AND LAST YEAR, VOLUNTEERS CONTRIBUTED OVER 5,000 HOURS TOWARDSS OUR COMMUNITY STEWARDSHIP PROJECTS. WE ARE COMMITTED TO ENGAGING OUR COMMUNITY THROUGH PROVIDING OPPORTUNITIES FOR VOLUNEERISM AND SHARING OUR WORK WITH OUR COMMUNITY THROUGH LOCAL AND SOCIAL MEDIA, AN EMAIL NEWSLETTER, AND ATTENDING COMMUNITY EVENTS. OUR CURRENT WORK INCLUDES SEVERAL PROJECTS IN THE CAMPBELL RIVER ESTUARY, INCLUDING RESTORATION OF BAIKIE ISLAND, RESEARCH ON THE IMPACTS OF NON-NATIVE CANADA GEESE, AND MANAGING INVASIVE SPECIES. WE ALSO CARRY OUT RESTORATION FOR OUR LOCAL POPULATIONS OF ENDANGERED DELTOID BALSAMROOT ON THE TYEE SPIT. OUR OTHER PROJECTS INCLUDE RIPARIAN AND FORESHORE RESTORATION WITH SCHOOL STUDENTS, SUPPORTING OUR LOCAL STEREAMKEEPER GROUNDS, GUIDING THE WORK OF THE STRATHCONA FOOD SECURITY NETWORK, A FRUIT TREE GLEANING PROJECT, AND MAINTAINING TRAILS IN THE BEAVER LODGE FOREST LANDS WITH OUR ADOPT-A-TRAIL PROGRAM CAMPBELL RIVER\n",
            "\n",
            "5) \u001b[31mINSTITUTE FOR NEW ECONOMICS PUBLIC INTEREST RESEARCH ASSOCIATION INC.\u001b[0m\n",
            "similiarity score of 0.87\n",
            "Description of charity : INSTITUTE FOR NEW ECONOMICS PUBLIC INTEREST RESEARCH ASSOCIATION INC. SUSTAINABLE COMMUNITIES:; ZERO CARBON METROPOLIS; FORESTRY BEST PRACTICES. VICTORIA\n",
            "\n",
            "6) \u001b[31mKAMLOOPS NATURALIST CLUB\u001b[0m\n",
            "similiarity score of 0.86\n",
            "Description of charity : KAMLOOPS NATURALIST CLUB REGULAR MEETINGS WITH GUEST PRESENTERS ARE HELD TO EDUCATE/ENCOURAGE MEMBERS/PUBLIC TO APPRECIATE/PROTECT/PARTICIPATE IN THE NATURAL ENVIRONMENT, AND TO RECEIVE FEEDBACK FROM MEMBERS/COMMUNITY ON THEIR NEEDS/INTERESTS. MEMBERS LEAD FIELD TRIPS FOR MEMBERS/GUEST TO POINTS OF INTEREST IN …DIRECTORS ATTEND PLANNING/MANAGEMENT MEETINGS … TO EDUCATE OURSELVES ON HOW TO BETTER INVOLVE COMMUNITIES IN THE CLUB/CLUB ACTIVITIES. KAMLOOPS\n",
            "\n",
            "7) \u001b[31mFriends of Churn Creek Protected Area Society\u001b[0m\n",
            "similiarity score of 0.86\n",
            "Description of charity : Friends of Churn Creek Protected Area Society 1) TREE ENCROACHMENT REMOVAL TO RESTORE GRASSLANDS IN CHURN CREEK PROTECTED AREA (CCPA); 2) MONITORING ECOLOGICAL CONDITION OF WETLANDS IN CCPA; 3) MAINTENANCE OF 450 METER FULLY ACCESSIBLE INTERPRETIVE TRAIL IN CCPA; 4) CONDUCTED TWO NATURE INTERPRETIVE HIKES IN CCPA. WILLIAMS LAKE\n",
            "\n",
            "8) \u001b[31mFRIENDS OF DOMINION BROOK PARK\u001b[0m\n",
            "similiarity score of 0.86\n",
            "Description of charity : FRIENDS OF DOMINION BROOK PARK Rehabilitation and Maintenance of Dominion Brook Park. Activities include but not limited to: Invasive plant removal, plant identification ad maintenance, publicizing and promoting Park activities and functions, volunteer and member recruitment, and rhododendron ravine restoration. SIDNEY\n",
            "\n",
            "9) \u001b[31mMalaspina Land Conservancy Society\u001b[0m\n",
            "similiarity score of 0.85\n",
            "Description of charity : Malaspina Land Conservancy Society WE CONTINUE TO OPERATE AS A LAND TRUST TO CONSERVE LANDS WITH AGRICULTURAL, SCENIC, HISTORICAL, CULTURAL, NATURAL AND COMPATIBLE RECREATIONAL VALUE. WE CONDUCT RESEARCH, PROVIDE EDUCATION AND HOLD 2 CONSERVATION COVENANTS OVER PRIVATE PROPERTIES. WE MONITOR A 250-ACRE COVENANT ON TEXADA ISLAND ON BEHALF OF THE LAND CONSERVANCY (TLC). POWELL RIVER\n",
            "\n",
            "10) \u001b[31mCENTRAL OKANAGAN NATURALISTS' CLUB\u001b[0m\n",
            "similiarity score of 0.85\n",
            "Description of charity : CENTRAL OKANAGAN NATURALISTS' CLUB 1) PROVIDING AN ANNUAL BURSARY FOR HIGH SCHOOL STUDENTS ENTERING UNIVERSITY. 2) MAINTAINING THE OKANAGAN HIGHLAND TRAILÉMISSION CREEK TO LITTLE WHITE MOUNTAIN. 3) PROVIDING PROGRAMS FOR \"YOUNG NATURALISTS\" (GETTING YOUNG PEOPLE ENGAGED IN APPRECIATION OF NATURE AND THE ENVIRONMENT) 4) CONSERVING THE NATURAL ENVIRONMENT OF THE CENTRAL OKANAGAN (ADVOCATING PRESERVATION OF HABITAT, PARTICULARLY THAT THREATENED BY DEVELOPMENT 5) PREPARING HIKING AND BIRDING GUIDES AND MAPS. 6) ADOPTING A STREAM. 7)LOOK AFTER PART OF MISSION CREEK AND MAUDE-ROXBY MARSH. KELOWNA\n",
            "\n",
            "\n",
            "\n",
            "\n",
            "\n",
            "\n",
            "\u001b[35mNSW recorded 356 new locally acquired cases of COVID-19 in the 24 hours to 8pm last night.\u001b[0m\n",
            "\n",
            "1) \u001b[31mPARISH OF ST. STEPHEN THE MARTYR, BURNABY\u001b[0m\n",
            "similiarity score of 0.82\n",
            "Description of charity : PARISH OF ST. STEPHEN THE MARTYR, BURNABY WE HOLD WEEKLY WORSHIP SERVICES, BIBLE STUDY GROUPS ON ZOOM DUE TO COVID - 19 PANDEMICPROVIDE PASTORAL CARE TO NEEDY, SHUT-INS, AND ILLNESS. PROVIDE MEETING SPACES FOR COMMUNITY GROUPS ABLE TO MEET THIS YEAR BURNABY\n",
            "\n",
            "\n",
            "\n",
            "\n",
            "\n",
            "\n",
            "\u001b[35mThank you, everyone! We raised $232 during today's charity punishment stream. Our donation was enough to send 4 girls to school for a year, thanks to the International Rescue Committee! We also were able to gift a few steam gift cards to chat &have a fun day!\u001b[0m\n",
            "\n",
            "1) \u001b[31mVICTORY FAMILY CHURCH SOCIETY\u001b[0m\n",
            "similiarity score of 0.88\n",
            "Description of charity : VICTORY FAMILY CHURCH SOCIETY SUNDAY WORSHIP SERVICE & SUNDAY SCHOOL FOR CHILDRENYOUTH FELLOWSHIP HOME CELL MEETING HOME VISITATION & FOLLOW-UP CLASSES SURREY\n",
            "\n",
            "2) \u001b[31mFORT NELSON ALLIANCE CHURCH\u001b[0m\n",
            "similiarity score of 0.87\n",
            "Description of charity : FORT NELSON ALLIANCE CHURCH SUNDAY SCHOOL, CHURCH SERVICES, BIBLE STUDIES, MENS GROUPS, WOMENS GROUPS, JUNIOR HIGH SCHOOL GROUPS, SENIOR HIGH SCHOOL GROUPS, YOUTH GROUPS, ADULT GROUPS, YOUNG MARRIED GROUPS, FAMILY GROUPS FORT NELSON\n",
            "\n",
            "3) \u001b[31mBETHEL GOSPEL MISSION\u001b[0m\n",
            "similiarity score of 0.87\n",
            "Description of charity : BETHEL GOSPEL MISSION WEEKLY SUNDAY / TUESDAY MEETINGS TO ENCOURAGE THE GROWTH OF THE CHRISTIAN FAITH. ADULT AND CHILDREN'S BIBLE STUDY DONATIONS TO VISITING PASTORS VANCOUVER\n",
            "\n",
            "4) \u001b[31mDUNBAR EVANGELICAL LUTHERAN CHURCH\u001b[0m\n",
            "similiarity score of 0.86\n",
            "Description of charity : DUNBAR EVANGELICAL LUTHERAN CHURCH SUNDAY SERVICES BIBLE STUDIES, EDUCATIONAL PROGRAMS, WORLD MISSION SUPPORT, COFFEE SOCIALS VANCOUVER\n",
            "\n",
            "5) \u001b[31mCENTRAL FELLOWSHIP BAPTIST CHURCH\u001b[0m\n",
            "similiarity score of 0.86\n",
            "Description of charity : CENTRAL FELLOWSHIP BAPTIST CHURCH Weekly services, youth programs, Sunday School classes, mid week Bible studies, weddings, funerals, community events PRINCE GEORGE\n",
            "\n",
            "6) \u001b[31mSt Peter's Estonian Evangelical Lutheran Church in Vancouver\u001b[0m\n",
            "similiarity score of 0.86\n",
            "Description of charity : St Peter's Estonian Evangelical Lutheran Church in Vancouver Sunday services, weddings/funerals, confirmation classes, counselling sessions, Sunday School VANCOUVER\n",
            "\n",
            "7) \u001b[31mMACKENZIE AUTUMN LODGE SOCIETY\u001b[0m\n",
            "similiarity score of 0.86\n",
            "Description of charity : MACKENZIE AUTUMN LODGE SOCIETY SENIORS LUNCHES AND SOCIALS - 5 VOLUNTEERS ABOUT 100 HOURS ANNUALLY. MCKENZIE\n",
            "\n",
            "8) \u001b[31mWellspring Charitable Foundation\u001b[0m\n",
            "similiarity score of 0.85\n",
            "Description of charity : Wellspring Charitable Foundation UNION GOSPEL MISSION DONATION THE SALVATION ARMY DONATION ALPHA EDUCATION DONATIONS VANCOUVER\n",
            "\n",
            "9) \u001b[31mPRINCE RUPERT FELLOWSHIP BAPTIST CHURCH\u001b[0m\n",
            "similiarity score of 0.85\n",
            "Description of charity : PRINCE RUPERT FELLOWSHIP BAPTIST CHURCH Sunday Worship Services, Preschool, Sunday School, Children's and Youth Groups, Life Groups, Library, Acropolis Manor Worship Service, Missionary Support, Vacation Bible School, Freedom Sessions PRINCE RUPERT\n",
            "\n",
            "10) \u001b[31mSOVEREIGN ORDER OF ST. JOHN VICTORIA COMMANDERY\u001b[0m\n",
            "similiarity score of 0.85\n",
            "Description of charity : SOVEREIGN ORDER OF ST. JOHN VICTORIA COMMANDERY DONATED $60,000 TO VICTORIA HOSPICE VICTORIA\n",
            "\n",
            "\n",
            "\n",
            "\n",
            "\n",
            "\n",
            "\u001b[35mThe military junta is the root cause of humanitarian crisis in #Myanmar. The junta has cut all supply routes to #Mindat & IDPs are now at risk of food shortage. In July, the junta has prevented #UNHCR \n",
            "@Refugees\n",
            " from delivering aid to IDPs in #Chin State.\u001b[0m\n",
            "\n",
            "1) \u001b[31mI C C MINISTRIES ASSOCIATION\u001b[0m\n",
            "similiarity score of 0.82\n",
            "Description of charity : I C C MINISTRIES ASSOCIATION 1. The Charity participated in media presentations giving interviews on ICEJ as well as participating in an ICEJ dinner honoring holocaust survivors memorial day.2. Performed live concerts regularly on FaceBook to thousands all over the world. 3. The Charity also gave weekly lectures to Son's of Thunder men's group on Israel and other topical issues.4. It also provided humanitarian assistance to CFMDA that ministers to holocaust survivors and medical emergency services in Israel.5. Instrumental in designing festivals for High Holy Days, like Yom Kippur and Sukkot ABBOTSFORD\n",
            "\n",
            "2) \u001b[31mAlly Global Foundation\u001b[0m\n",
            "similiarity score of 0.82\n",
            "Description of charity : Ally Global Foundation THE FOUNDATION EXISTS TO RELIEVE POVERTY BY PROVIDING HUMANITARIAN ASSISTANCE TO INDIVIDUALS IN NEED, AND IN PARTICULAR BY PROVIDING SUPPORT, COUNSELLING, EDUCATION, VACATIONAL TRAINING, FOOD, CLOTHING AND SHELTER TO INDIVIDUALS AFFECTED BY VIOLENCE AND HUMAN TRAFFICKING. THE FOUNDATION OPERATES SAFE HOMES IN NEPAL (5) AND LAOS (4), TWO SCHOOLS AND TWO DIFFERENT AGRICULTURAL PROJECTS. VANCOUVER\n",
            "\n",
            "\n",
            "\n",
            "\n",
            "\n",
            "\n",
            "\u001b[35mVegetable producer says it is losing thousands of pounds a week and throwing away food due to labour shortage\u001b[0m\n",
            "\n",
            "1) \u001b[31mOkanagan Fruit Tree Project Society\u001b[0m\n",
            "similiarity score of 0.86\n",
            "Description of charity : Okanagan Fruit Tree Project Society Fruit and vegetable rescue: we harvest produce that would otherwise go to waste. This produce is then shared primarily redistributed to schools and social service agencies. Those that volunteer with us through this program also learn about local food production. KELOWNA\n",
            "\n",
            "2) \u001b[31mLush Valley Food Action Society\u001b[0m\n",
            "similiarity score of 0.84\n",
            "Description of charity : Lush Valley Food Action Society The Fruit Tree and Farm Gleaning Program utilizes volunteers to harvest and redistribute thousands of pounds of fresh fruit and produce from homes, farms and orchards that would otherwise go to waste, and re-distributes the produce back to the community.  The program increases access to fresh local produce for people who need it, decreases food waste and emissions , and decreases bears and other animal attractants.Our Community Garden program provides a safe and nurturing place where families and individuals who don’t have access to garden space can grow food for themselves, their family and/or their community.Our Healthy Foods programs offer a wide range of cooking and food skill classes for community members of all ages, experiences and backgrounds. Some of the programs are free, and when they are not we offer bursaries, so everyone can enjoy them. We also utilize volunteer kitchen assistants to help use present classes and workshops. COURTENAY\n",
            "\n",
            "3) \u001b[31mSHARING THE CHRISTMAS SPIRIT\u001b[0m\n",
            "similiarity score of 0.84\n",
            "Description of charity : SHARING THE CHRISTMAS SPIRIT WE RELIEVE POVERTY BY SUPPLYING FOOD HAMPERS TO THE NEEDY OVER THE CHRISTMAS SEASON. COURTENAY\n",
            "\n",
            "4) \u001b[31mNelson Community Food Centre Society\u001b[0m\n",
            "similiarity score of 0.84\n",
            "Description of charity : Nelson Community Food Centre Society Good Food Bank served 1,800 people up to once/week. Cooking programs, garden programs and our gleaning program were available to all, but targeted at vulnerable people. Volunteers contributed 3.683 hours. NELSON\n",
            "\n",
            "5) \u001b[31mCOWICHAN VALLEY BASKET SOCIETY\u001b[0m\n",
            "similiarity score of 0.82\n",
            "Description of charity : COWICHAN VALLEY BASKET SOCIETY DAILY FOOD BANK PROVIIDNG HOT MEALS FROM 10:00AM TO 4:00 PMPROVISION OF FOOD HAMPERS EMERGENCY FOOD HAMPERS AS REQUIREDSUPPORT SYSTEM FOR THOSE WHO REQUEST ASSISTANCE WITH ACCESSING LOCAL SERVICESEDUCATION PROGRAM FOR HEALTHY EATING ASSOCIATION WITH LIKE PROGRAMS IN THE VALLEY TO WORK TOGETHER TO PROVIDE SUPPORT, EDUCATION, HEALTHY EATING ON LOW BUDGETS, BREAKFAST PROGRAM DUNCAN\n",
            "\n",
            "6) \u001b[31mKaien Anti-Poverty Society\u001b[0m\n",
            "similiarity score of 0.82\n",
            "Description of charity : Kaien Anti-Poverty Society FOOD SHARE PROGRAM OFFERING DONATED FOOD STUFF TO THOSE IN NEEDFREE STORE PROGRAM OFFERING DONATED CLOTHING, HOUSEHOLD ITEMS TO THOSE IN NEED, LUNCHENS AND CHRISTMAS DINNER FOR SENIORS, CRN PRINCE RUPERT\n",
            "\n",
            "7) \u001b[31mLake Cowichan Food Bank Society\u001b[0m\n",
            "similiarity score of 0.81\n",
            "Description of charity : Lake Cowichan Food Bank Society HUNGER AWARENESS HUNGER COUNTS, VOLUNTEERS SET UP, ORGANIZE AND PLAN ALL FOOD DONATIONS AND PURCHASED FOODS FOR THE SOLE PURPOSE OF DISTRIBUTING TO THE UNDER PRIVILEGED AND LOW INCOME FAMILIES, INDIVIDUALS, AND SENIORS OF THE COWICHAN LAKE AREA. WORK IN CONJUNCTION WITH MUSTARD SEED TO PICK UP AND STORE FOOD DONATIONS AND SUPPLIES FOR THE SOLE PURPOSE OF DISTRIBUTION TO THE NEEDY. A VOLUNTEER BOARD ALSO SPENDS TIME IN MEETINGS TO ORGANIZE AND PLAN FUND RAISING ACTIVITIES SUCH AS HOTDOG SALES, AND COMMUNITY EVENT INVOLVEMENT FOR FOOD DRIVES AND PUBLIC EDUCATION AWARENESS ON THE NEED TO FEED THE HUNGRY. WE WORK WITH THE COMMUNITY SERVICES AND THE FIRE DEPARTMENT DURING THE CHRISTMAS HAMPER AND KIDS TOY DRIVES. COMMUNITY FUNDRAISERS, FILL THE CUPBOARD EVENTS AND BOTTLE DRIVES, FOOD RECOVERY PROGRAM AND COMMUNITY GARDEN PLANT A ROW LAKE COWICHAN\n",
            "\n",
            "8) \u001b[31mCOLUMBIA VALLEY FOOD BANK\u001b[0m\n",
            "similiarity score of 0.81\n",
            "Description of charity : COLUMBIA VALLEY FOOD BANK #NAME? INVERMERE\n",
            "\n",
            "\n",
            "\n",
            "\n",
            "\n",
            "\n",
            "\u001b[35mFigure TS.6 is my favourite figure of the main #IPCC report. It illustrates the assessment of climate sensitivity (ECS), the concepts of low-likelihood outcomes & global warming levels (GWLs), how global temperature has changed & is projected to change, with corresponding impacts\u001b[0m\n",
            "\n",
            "1) \u001b[31mSUSTAINABLE ENVIRONMENT NETWORK SOCIETY\u001b[0m\n",
            "similiarity score of 0.80\n",
            "Description of charity : SUSTAINABLE ENVIRONMENT NETWORK SOCIETY MONTHLY E-NEWS, NETWORK, SPEAKERS, CURBSIDE-FREE WEEKENDS FOR GENTLY USED ITEMSORGANIZE: SUSTAINABILITY FILM FEST, SEEDY SATURDAY, HANDMADE HOLIDAY GIFTING, ELECTRIC CAR/BIKE/BOAT SHOW EVENTSREPRESENT PUBLIC ON CITY'S TRANSPORT ADVISORY CTTEE & RDNO'S SOLID/LIQUID WASTE MANAGEMENT CTTEESUPPORT FOR BEESAFE & ROAD-SIDE POLLINATOR PATHWAYS AROUND VERNON & ASK FOR BAN ON COSMETICPESTICIDE/HERBICIDES VERNON\n",
            "\n",
            "\n",
            "\n",
            "\n",
            "\n",
            "\n",
            "\u001b[35mA powerful partnership with aligned objectives to combat skin cancer in the UK!Itís been great to have the opportunity to introduce Skcin, our objectives & our work to various colleagues across Tesco & deliver several skin cancer prevention & early detection educational sessions!\u001b[0m\n",
            "\n",
            "1) \u001b[31mSAVE YOUR SKIN FOUNDATION\u001b[0m\n",
            "similiarity score of 0.92\n",
            "Description of charity : SAVE YOUR SKIN FOUNDATION EDUCATION + AWARENESS OF SKIN CANCER AT COMMUNITY EVENTS, SOCIAL MEDIA, WEBINARS, MULTI STAKEHOLDER EVENTS TO EDUCATE ON INNOVATIVE MEDICINES  - PATIENT SUPPORT MEETINGS NORTH VANCOUVER\n",
            "\n",
            "\n",
            "\n",
            "\n",
            "\n",
            "\n",
            "\u001b[35mItís been 1 year of living with Diabetes. \n",
            "\n",
            "Havenít been really easy , yet Iím living life to the fullest . Staying Happy always! \n",
            "\n",
            "Thank you to those who have been supporting , pushing me to do better & Praying over me . \n",
            "Grateful & Blessed Red heart\u001b[0m\n",
            "\n",
            "1) \u001b[31mSALT SPRING SENIORS SERVICES SOCIETY\u001b[0m\n",
            "similiarity score of 0.81\n",
            "Description of charity : SALT SPRING SENIORS SERVICES SOCIETY SS RADIO, DUPLICATE BRIDGE, MAHJONG, BLOOD PRESSURE MONITOR, UNITARIAN FELLOWSHIP, BOOK CLUB, ACTIVE LEARNING, PEER COUNSELLING, CARE GIVERS SUPPORT, THURSDAY LUNCH, DRIVERS' PROGRAM, INCOME TAX PREP, CHESS, ART CLASSES, CHOIR, COMPUTER HELP, AA, WRITERS' GP. SALT SPRING ISLAND\n",
            "\n",
            "\n",
            "\n",
            "\n",
            "\n",
            "\n",
            "\u001b[35min the news the kidney foundation encourages other canadian organizations and companies to to adopt policies to support living organdonors read more about kidneycanada s wage replacement policy for living organ and tissue donation\u001b[0m\n",
            "\n",
            "1) \u001b[31mBRUCE DENNISTON BONE MARROW SOCIETY\u001b[0m\n",
            "similiarity score of 0.85\n",
            "Description of charity : BRUCE DENNISTON BONE MARROW SOCIETY SUPPORT OF CANADIAN BLOOD SERVICES' STEM CELL REGISTRY, BY EDUCATING THE PUBLIC ABOUT THE NEED FOR REGISTERED DONORS. OUR VOLUNTEER STEM CELL AND BONE MARROW COURIERS TRAVEL THE WORLD TO TRANSPORT STEM CELLS TO HOSPITALS IN CANADA WHERE PATIENTS ARE AWAITING A LIFE-SAVING STEM CELL OR BONE MORROW TRANSPLANT. SHIRTS DESIGNED TO ACCOMODATE CENTRAL LINE ARE PROVIDED TO TRANSPLANT CENTERS, AS IS EQUIPMENT REQUIRED FOR THE SAFE TRANSPORT OF STEM CELLS AND BONE MARROW. POWELL RIVER\n",
            "\n",
            "2) \u001b[31mCrossroads Hospice (2009) Foundation\u001b[0m\n",
            "similiarity score of 0.84\n",
            "Description of charity : Crossroads Hospice (2009) Foundation THE FOUNDATION COLLECTS DONATIONS AND DISTRIBUTES THE COLLECTED TO OTHER CHARITIES. COQUITLAM\n",
            "\n",
            "3) \u001b[31mMID ISLAND KIDNEY ASSOCIATION\u001b[0m\n",
            "similiarity score of 0.83\n",
            "Description of charity : MID ISLAND KIDNEY ASSOCIATION WE HAVE A SPRING & CHRISTMAS RAFFLE. THE PUB WE HAD A MEAT DRAW EVERY SATURDAY IS NOW CLOSED. OUR GROUP HAS A EASTER BRING & BUY DINNER PORT ALBERNI\n",
            "\n",
            "4) \u001b[31mMISSION HOSPITAL AUXILIARY MEMORIAL FUND\u001b[0m\n",
            "similiarity score of 0.82\n",
            "Description of charity : MISSION HOSPITAL AUXILIARY MEMORIAL FUND THE MEMORIAL FUND CONTINUED TO COLLECT DONATIONS IN 2020 FROM PEOPLE WISHING TO GIVE MONEY TO THE HOSPITAL AND E.C.U. IN MEMORY OF A LOVED ONE. THE NAMES ARE PRINTED IN THE MEMORIAL BOOK. ABBOTSFORD\n",
            "\n",
            "5) \u001b[31mVANCOUVER ISLAND KIDNEY PATIENTS' ASSOCIATION\u001b[0m\n",
            "similiarity score of 0.82\n",
            "Description of charity : VANCOUVER ISLAND KIDNEY PATIENTS' ASSOCIATION Promoting and providing for kidney patients' health and welfare in the following ways:1. Providing equipment for patients which is not provided by Island Health (i.e. dialysis chairs, machines, monitors)2. Providing items for patients to borrow for home use (i.e. portable blood pressure monitors)3. Providing patient comfort items while undergoing dialysis (i.e. TVs, water dispensers, microwaves, blankets)4. Providing for low income patients (i.e. holiday grocery gift cards, emergency funds)5. Awarding bursaries to assist with patient and patient family education6. Providing information to patients and directing them to appropriate resources VICTORIA\n",
            "\n",
            "6) \u001b[31mABBOTSFORD LIONS CLUB CHARITABLE TRUST\u001b[0m\n",
            "similiarity score of 0.81\n",
            "Description of charity : ABBOTSFORD LIONS CLUB CHARITABLE TRUST MADE A DONATION CANUCK PLACE CHILDREN'S HOSPICE. ABBOTSFORD\n",
            "\n",
            "\n",
            "\n",
            "\n",
            "\n",
            "\n",
            "\u001b[35mItís funny how the phrase \"abusing the system\" is thrown around when talking about welfare and food banks, but never for companies like Amazon not paying a living wage while paying zero taxes. \n",
            "\n",
            "Abuse comes from a position of power and privilege, not vulnerability.\u001b[0m\n",
            "\n",
            "1) \u001b[31mTHE STEELHEAD SOCIETY OF BRITISH COLUMBIA\u001b[0m\n",
            "similiarity score of 0.82\n",
            "Description of charity : THE STEELHEAD SOCIETY OF BRITISH COLUMBIA #NAME? COQUITLAM\n",
            "\n",
            "2) \u001b[31mCariboo Liberty Place Society\u001b[0m\n",
            "similiarity score of 0.81\n",
            "Description of charity : Cariboo Liberty Place Society OUR WINTER COASTS PROGRAM LASTED UNTIL LATE MARCH THIS YEAR. OUR TUESDAY PRAYER AND BIBLE STUDY WAS ON GOING UNTIL MID APRIL WHEN COVID-19 PROTOCOLS AND RESTRICTIONS WERE MANDATED BY THE BC GOVERNMENT AND WE WERE FORCED TO SHUT DOWN FOR THE BALANCE OF 2020. QUESNEL\n",
            "\n",
            "3) \u001b[31mMr. Lube Foundation / Fondation de M. Lube\u001b[0m\n",
            "similiarity score of 0.80\n",
            "Description of charity : Mr. Lube Foundation / Fondation de M. Lube TO RECEIVE GIFTS, BEQUESTS, TRUSTS, FUNDS AND PROPERTY, AND BENEFICIALLY, ORAS A TRUSTEE OR AGENT, TO HOLD, INVEST, DEVELOP, MANAGE, ACCUMULATE, ANDADMINISTER FUNDS AND PROPERTY FOR THE PURPOSE OF DISBURSING FUNDS ANDPROPERTY EXCLUSIVELY TO QUALIFIED DONEES. RICHMOND\n",
            "\n",
            "\n",
            "\n",
            "\n",
            "\n",
            "\n",
            "\u001b[35mThe slender, bushy-tailed Sierra Nevada red fox will be listed as an endangered species, federal wildlife officials announced, saying its population has dipped to just 40 animals in area of California stretching from Lake Tahoe to south of Yosemite.\u001b[0m\n",
            "\n",
            "1) \u001b[31mCRITTER CARE WILDLIFE SOCIETY\u001b[0m\n",
            "similiarity score of 0.88\n",
            "Description of charity : CRITTER CARE WILDLIFE SOCIETY 1) RESCUE, REHABILITATION AND RELEASE BACK INTO THE WILD OF NATIVE WILDLIFE (COYOTES, DEER, RACCOONS, BLACK BEARS, BEAVER,OTTER ETC)2) PUBLIC ADVICE AND GUIDANCE ON HOW TO LIVE WITH AND PROTECT OUR NATIVE WILDLIFE VIA A) OPEN HOUSE B) GENERAL PUBLIC TELEPHONE ADVISE C) WEBSITE D) EDUCATIONAL TALKS LANGLEY\n",
            "\n",
            "2) \u001b[31mHancock Wildlife Foundation\u001b[0m\n",
            "similiarity score of 0.87\n",
            "Description of charity : Hancock Wildlife Foundation HANCOCK WILDLIFE FOUNDATION (HWF): BROADCASTS LIVE, STREAMING VIDEOS OF EAGLES, FISH, ESTUARY LIFE AND OTHER BIRD SPECIES ON THE WORLD WIDE WEB; PROVIDES LECTURES ON EAGLES, CONSERVATION AND RELATED TOPICS IN SCHOOLS AND TO THE GENERAL PUBLIC THROUGHOUT BRITISH COLUMBIA AND OTHER LOCATIONS;PARTICIPATES IN WILDLIFE FESTIVALS IN BRITISH COLUMBIA AND OTHER LOCATIONS; SPONSORS RESEARCH PROJECTS ON BALD EAGLES; SUPPORTS STUDENTS IN STUDIES, PARTICULARLY BALD EAGLE RESEARCH; PARTICIPATES IN THE BALD EAGLE TRACKING ALLIANCE, ALONG WITH OTHER EXPERTS, TO TRACK EAGLES TO ASSESS THEIR IMPACT ON ECOSYSTEMS AS THE TOP PREDATOR; STUDIES NESTING DISTRIBUTION AND REPRODUCTIVE SUCCESS OF RAPTORS AND CONTRIBUTES TO MITIGATION PROJECTS. SURREY\n",
            "\n",
            "3) \u001b[31mBIODIVERSITY CENTRE FOR WILDLIFE STUDIES\u001b[0m\n",
            "similiarity score of 0.87\n",
            "Description of charity : BIODIVERSITY CENTRE FOR WILDLIFE STUDIES Three issues of our peer-reviewed, bi-annual journal \"Wildlife Afield'' published, including seabird colonies of BC, and a major biography. Three additional volumes of seabird catalogue and issue of \"Wildlife Afield\" in preparation. Publications out on line and webpage updated with news for members. Use of databases and editorial comments for \"Birds of Vancouver Islands West Coast and Birds of Creston. Responding to requests  for wildlife information. VICTORIA\n",
            "\n",
            "4) \u001b[31mLASKEEK BAY CONSERVATION SOCIETY\u001b[0m\n",
            "similiarity score of 0.86\n",
            "Description of charity : LASKEEK BAY CONSERVATION SOCIETY •Ancient Murrelet Monitoring by remote camera, gathering ground counts (at sea), and land based night-time point counts (May 14 - June 3; 2 staff, 2 volunteers @ 54 hours)•Regular Field Season tasks (including Cassin's Aucklet monitoring, Pigeon Guillimont nest-box monitoring, Black Oystercatcher surveys within Laskeek Bay, Wildlife tree monitoring, deer monitoring, vegetation monitoring, invasive plant monitoring, at sea surveys, near shore surveys, cetacean sighting, marine mammal counts, gathering ground counts, data management. (2 staff @ 800 hours plus 2 volunteers @ 65 days)•Board of Directors (9 directors @ 300 hours/year) •Scientific Committee (5 advisors @ 120 hours/year) Deer Survey (Fall) (1 staff @ 5 days = 40 hours) (2 volunteers @ 5 days = 85 hours ) Total = 125 •Raccoon Surveys (2 staff @ 5 days=80 hours) (2 volunteers @ 5 days = 80 hours) Total = 160 QUEEN CHARLOTTE\n",
            "\n",
            "5) \u001b[31mWINGS OVER THE ROCKIES BIRD FESTIVAL\u001b[0m\n",
            "similiarity score of 0.84\n",
            "Description of charity : WINGS OVER THE ROCKIES BIRD FESTIVAL WINGS OVER THE ROCKIES PLANNED TO PRESENT OUR ANNUAL WEEK-LONG BIRD AND NATURE FESTIVAL, FEATURING EVENTS FOCUSING ON CONSERVATION AND ECOSYSTEM RELATIONSHIPS WITHIN THE COLUMBIA VALLEY AND SURROUNDING AREAS, INCLUDING KOOTENAY NATIONAL PARK; BUT CANCELLED OUR FESTIVAL DUE TO COVID-19. INVERMERE\n",
            "\n",
            "6) \u001b[31mQUEEN CHARLOTTE ISLANDS SALMON UNLIMITED ASSOCIATION\u001b[0m\n",
            "similiarity score of 0.84\n",
            "Description of charity : QUEEN CHARLOTTE ISLANDS SALMON UNLIMITED ASSOCIATION The Association's objectives are to increase, perpetuate, preserve and protect wild salmon and other endangered fish breeding areas through Canada and to restore, enhance, and assess fish breeding areas through preservation and education. The Association was involved in the Deep Creek Chambers Project. In prior years, the Association was also involved in the Yakoun River Hatchery Project and participated in a miscellaneous Fish Release project. MASSET\n",
            "\n",
            "7) \u001b[31mNELSON DISTRICT ROD & GUN CONSERVATION SOCIETY\u001b[0m\n",
            "similiarity score of 0.83\n",
            "Description of charity : NELSON DISTRICT ROD & GUN CONSERVATION SOCIETY COTONWOOD CREEK & SPROULE CREEK-ENHANCEMENT-SPAWNING CHANNELS; BIG HORN SHEEP-WINTER FEED & MONIOR HEALTH AS WELL AS SPONSORING SCHOOL GROUPS FOR EDUCATION; KOOTENAY WILDLIFE RESCUE DONATIONS; FAMILY FISHING WEEKEND-PERSONS WITH DISABILITIES & SENIORS FISHING WEEKEND. TRAINING FACILITIES FOR LAW ENFORCEMENT-NELSON CITY POLICE, SHERIFFS DEPART; RCMP; PARKS BRANCH; EMERGENCY SHELTER DESIGNATION, FIREARMS SAFETY PROGRAMS; MEETING ROOMS FOR COMMUNITY GROUPS; CONSERVATION OF KOOTENAY LAKE; NELSON AA FINANCIAL ASSISTANCE & MEETING SPACE; COMMUNITY SPACE NELSON\n",
            "\n",
            "8) \u001b[31mMAYNE ISLAND CONSERVANCY SOCIETY\u001b[0m\n",
            "similiarity score of 0.83\n",
            "Description of charity : MAYNE ISLAND CONSERVANCY SOCIETY COVENANT MONITORING - 2 COVENANTS ARE ANNUALLY MONITORED FOR CHANGE; NATIVE PLANT NURSERY - FOR RESTORATION; ECOSYSTEM RESTORATION - INVASIVE PLANT REMOVAL AND MANAGEMENT, NATIVE PLANT PLANTINGS IN OUR PUBLIC PARKS; WALKABOUT PROGRAM TO PROVIDE ECOLOGICAL ADVICE TO PROPERTY OWNERS; SCHOOL PROGRAM - PROVIDING NATURAL HISTORY AND ECOLOGICAL SCIENCE SESSIONS FOR SCHOOL CHILDREN; WETLAND RESTORATION - INCREASING NATIVE PLANT DIVERSITY; EELGRASS AND KELP BED MONITORING; BAT CONSERV. MAYNE ISLAND\n",
            "\n",
            "9) \u001b[31mRAINCOAST CONSERVATION FOUNDATION\u001b[0m\n",
            "similiarity score of 0.83\n",
            "Description of charity : RAINCOAST CONSERVATION FOUNDATION GREAT BEAR RAINFOREST AND SALISH SEA1. WILD SALMON PROJECT-DETERMINING THE ROLE AND IMPORTANCE OF SALMON IN THE ECOSYSTEM2. COASTAL WOLF PROJECT RESEARCH - ECOLOGICAL, GENETIC AND BEHAVIOURAL STUDY OF THE COASTAL WOLVES3. GRIZZLY BEAR PROJECTS - ECOLOGICAL, DIET AND HABITAT STUDIES OF COASTAL GRIZZLIES4. MARINE CONSERVATION PROJECT - RESEARCH THE ABUNDANCE AND DISTRIBUTION OF MARINE MAMMALS AND BIRDS ON THE BC COAST SIDNEY\n",
            "\n",
            "10) \u001b[31mDELTA NATURALISTS SOCIETY\u001b[0m\n",
            "similiarity score of 0.82\n",
            "Description of charity : DELTA NATURALISTS SOCIETY We conduct weekly birding walks, have monthly meetings with presentations on nature topics, maintaining and tracking performance of nest boxes, participate in community natural history booths and events. DELTA\n",
            "\n",
            "\n",
            "\n",
            "\n",
            "\n",
            "\n",
            "['THE FOREST BIRD SOCIETY', 'E.I.S.-THE ECOFORESTRY INSTITUTE SOCIETY', 'OKANAGAN SIMILKAMEEN PARKS SOCIETY', 'DISCOVERY COAST GREENWAYS LAND TRUST', 'INSTITUTE FOR NEW ECONOMICS PUBLIC INTEREST RESEARCH ASSOCIATION INC.', 'KAMLOOPS NATURALIST CLUB', 'Friends of Churn Creek Protected Area Society', 'FRIENDS OF DOMINION BROOK PARK', 'Malaspina Land Conservancy Society', \"CENTRAL OKANAGAN NATURALISTS' CLUB\", 'PARISH OF ST. STEPHEN THE MARTYR, BURNABY', 'VICTORY FAMILY CHURCH SOCIETY', 'FORT NELSON ALLIANCE CHURCH', 'BETHEL GOSPEL MISSION', 'DUNBAR EVANGELICAL LUTHERAN CHURCH', 'CENTRAL FELLOWSHIP BAPTIST CHURCH', \"St Peter's Estonian Evangelical Lutheran Church in Vancouver\", 'MACKENZIE AUTUMN LODGE SOCIETY', 'Wellspring Charitable Foundation', 'PRINCE RUPERT FELLOWSHIP BAPTIST CHURCH', 'SOVEREIGN ORDER OF ST. JOHN VICTORIA COMMANDERY', 'I C C MINISTRIES ASSOCIATION', 'Ally Global Foundation', 'Okanagan Fruit Tree Project Society', 'Lush Valley Food Action Society', 'SHARING THE CHRISTMAS SPIRIT', 'Nelson Community Food Centre Society', 'COWICHAN VALLEY BASKET SOCIETY', 'Kaien Anti-Poverty Society', 'Lake Cowichan Food Bank Society', 'COLUMBIA VALLEY FOOD BANK', 'SUSTAINABLE ENVIRONMENT NETWORK SOCIETY', 'SAVE YOUR SKIN FOUNDATION', 'SALT SPRING SENIORS SERVICES SOCIETY', 'BRUCE DENNISTON BONE MARROW SOCIETY', 'Crossroads Hospice (2009) Foundation', 'MID ISLAND KIDNEY ASSOCIATION', 'MISSION HOSPITAL AUXILIARY MEMORIAL FUND', \"VANCOUVER ISLAND KIDNEY PATIENTS' ASSOCIATION\", 'ABBOTSFORD LIONS CLUB CHARITABLE TRUST', 'THE STEELHEAD SOCIETY OF BRITISH COLUMBIA', 'Cariboo Liberty Place Society', 'Mr. Lube Foundation / Fondation de M. Lube', 'CRITTER CARE WILDLIFE SOCIETY', 'Hancock Wildlife Foundation', 'BIODIVERSITY CENTRE FOR WILDLIFE STUDIES', 'LASKEEK BAY CONSERVATION SOCIETY', 'WINGS OVER THE ROCKIES BIRD FESTIVAL', 'QUEEN CHARLOTTE ISLANDS SALMON UNLIMITED ASSOCIATION', 'NELSON DISTRICT ROD & GUN CONSERVATION SOCIETY', 'MAYNE ISLAND CONSERVANCY SOCIETY', 'RAINCOAST CONSERVATION FOUNDATION', 'DELTA NATURALISTS SOCIETY']\n",
            "[0.904597818851471, 0.9025729298591614, 0.8728896975517273, 0.8695875406265259, 0.8652890920639038, 0.8611286878585815, 0.8608299493789673, 0.8570981621742249, 0.8517448902130127, 0.8455222845077515, 0.8211581707000732, 0.8835667371749878, 0.8686244487762451, 0.8673332929611206, 0.8643861413002014, 0.858896791934967, 0.8587639331817627, 0.8580148220062256, 0.8549598455429077, 0.8538715243339539, 0.8537924885749817, 0.8191524147987366, 0.8166676759719849, 0.8568390607833862, 0.8428255319595337, 0.8428030014038086, 0.8388980031013489, 0.8193992972373962, 0.8152089715003967, 0.8115896582603455, 0.8108336925506592, 0.8027907013893127, 0.9197247624397278, 0.8077276945114136, 0.8475812077522278, 0.837673008441925, 0.8342339396476746, 0.823443591594696, 0.8231873512268066, 0.8052585124969482, 0.8187403678894043, 0.811008870601654, 0.800756573677063, 0.8808552026748657, 0.8719797730445862, 0.8666646480560303, 0.8622855544090271, 0.843237578868866, 0.83504319190979, 0.8342035412788391, 0.8282658457756042, 0.8257876038551331, 0.8245929479598999]\n"
          ],
          "name": "stdout"
        }
      ]
    },
    {
      "cell_type": "code",
      "metadata": {
        "id": "P_BqiI1AVh_T"
      },
      "source": [
        "charity_counter=0\n",
        "temp_scores=[]\n",
        "indices=[]\n",
        "top_names=[]\n",
        "top_descriptions=[]\n",
        "\n",
        "for i in range(0,len(all_scores)):\n",
        "  temp_scores.append(all_scores[i])\n",
        "\n",
        "all_scores = sorted(all_scores, reverse=True) \n",
        "\n"
      ],
      "execution_count": 55,
      "outputs": []
    },
    {
      "cell_type": "markdown",
      "metadata": {
        "id": "atOKz-AtfO-l"
      },
      "source": [
        "# Showing only top 10 recommendations chosen from all the recommendations generated for different conversations on the basis of the highest similarity scores of the recommendations\n",
        "\n",
        "## **- This approach was taken to mantain diversity in recommendations while having high quality recommendations (highest degree of textual match)**\n",
        "\n",
        "## **- This approach can be changed if a sutaible alternate method is devised**"
      ]
    },
    {
      "cell_type": "code",
      "metadata": {
        "colab": {
          "base_uri": "https://localhost:8080/"
        },
        "id": "YFWZrSVyY-J_",
        "outputId": "90be3179-90dc-4280-8743-eb9a49fa3edd"
      },
      "source": [
        "\n",
        "\n",
        "for i in range(0,10):\n",
        "  for j in range(0,len(temp_scores)):\n",
        "    if(all_scores[i]==temp_scores[j]):\n",
        "      indices.append(j)\n",
        "\n",
        "print(indices)\n",
        "for i in range(0, 10):\n",
        "  top_names.append(all_names[indices[i]])\n",
        "  top_descriptions.append(all_descriptions[indices[i]])\n",
        "\n",
        "\n"
      ],
      "execution_count": 56,
      "outputs": [
        {
          "output_type": "stream",
          "text": [
            "[0, 53, 1, 54, 2, 55, 56, 57, 58, 59]\n"
          ],
          "name": "stdout"
        }
      ]
    },
    {
      "cell_type": "code",
      "metadata": {
        "colab": {
          "base_uri": "https://localhost:8080/"
        },
        "id": "xqM-TAXcZQbf",
        "outputId": "053b2799-4a21-4864-de07-35ce48afed43"
      },
      "source": [
        "counter=0\n",
        "\n",
        "choice=input(\"Want to set a location? \")\n",
        "print(\"\\n\")\n",
        "\n",
        "if(choice==\"yes\"):\n",
        "  user_location=input(\"Enter City: \")\n",
        "  print(\"\\n\")\n",
        "  for i in range(0,10):\n",
        "    if(user_location in top_descriptions[i]):\n",
        "      print(str(counter+1)+\") \"+colored(top_names[i],'red')+\"(\"+str(temp_scores[i])+\")\")\n",
        "      print(top_descriptions[i])\n",
        "      print(\"\\n\")\n",
        "      counter+=1\n",
        "    \n",
        "  for i in range(0,10):\n",
        "    if(user_location not in top_descriptions[i]):\n",
        "      print(str(counter+1)+\") \"+colored(top_names[i],'red')+\"(\"+str(temp_scores[i])+\")\")\n",
        "      print(top_descriptions[i])\n",
        "      print(\"\\n\")\n",
        "      counter+=1\n",
        "else:\n",
        "   for i in range(0,10):\n",
        "  \n",
        "    print(str(i+1)+\") \"+colored(top_names[i],'red')+\"(\"+str(temp_scores[i])+\")\")\n",
        "    print(top_descriptions[i])\n",
        "    print(\"\\n\")\n",
        "     "
      ],
      "execution_count": 46,
      "outputs": [
        {
          "output_type": "stream",
          "text": [
            "Want to set a location? yes\n",
            "\n",
            "\n",
            "Enter City: Vancouver\n",
            "\n",
            "\n",
            "1) \u001b[31mSAVE YOUR SKIN FOUNDATION\u001b[0m(0.904597818851471)\n",
            "SAVE YOUR SKIN FOUNDATION EDUCATION + AWARENESS OF SKIN CANCER AT COMMUNITY EVENTS, SOCIAL MEDIA, WEBINARS, MULTI STAKEHOLDER EVENTS TO EDUCATE ON INNOVATIVE MEDICINES  - PATIENT SUPPORT MEETINGS NORTH VANCOUVER\n",
            "\n",
            "\n",
            "2) \u001b[31mTHE FOREST BIRD SOCIETY\u001b[0m(0.9025729298591614)\n",
            "THE FOREST BIRD SOCIETY THE ORGANIZATION IS WINDING DOWN DEVELOPMENT OF PROJECTS AND WILL CONCENTRATE IN TRYING TO IMPLEMENT SUCH PROJECTS, IT IS ACTIVELY SEEKING NEW FUNDING FROM NOW ONWARDS. RICHMOND\n",
            "\n",
            "\n",
            "3) \u001b[31mE.I.S.-THE ECOFORESTRY INSTITUTE SOCIETY\u001b[0m(0.8728896975517273)\n",
            "E.I.S.-THE ECOFORESTRY INSTITUTE SOCIETY * Resources and expertise were provided to develop sustainable land use and management plans related to ecologically oriented forestry.*  As holder of the WIldwood Trust,  Wildwood is maintained as per an Ecoforestry Management Plan* 5000 volunteer hours were logged (as we have no staff) to provide education tours to school and university students, forestry-related workers, and tourists, offer ecoforestry workshops, and events, as well as maintaining the Wildwood property. VICTORIA\n",
            "\n",
            "\n",
            "4) \u001b[31mVICTORY FAMILY CHURCH SOCIETY\u001b[0m(0.8695875406265259)\n",
            "VICTORY FAMILY CHURCH SOCIETY SUNDAY WORSHIP SERVICE & SUNDAY SCHOOL FOR CHILDRENYOUTH FELLOWSHIP HOME CELL MEETING HOME VISITATION & FOLLOW-UP CLASSES SURREY\n",
            "\n",
            "\n",
            "5) \u001b[31mCRITTER CARE WILDLIFE SOCIETY\u001b[0m(0.8652890920639038)\n",
            "CRITTER CARE WILDLIFE SOCIETY 1) RESCUE, REHABILITATION AND RELEASE BACK INTO THE WILD OF NATIVE WILDLIFE (COYOTES, DEER, RACCOONS, BLACK BEARS, BEAVER,OTTER ETC)2) PUBLIC ADVICE AND GUIDANCE ON HOW TO LIVE WITH AND PROTECT OUR NATIVE WILDLIFE VIA A) OPEN HOUSE B) GENERAL PUBLIC TELEPHONE ADVISE C) WEBSITE D) EDUCATIONAL TALKS LANGLEY\n",
            "\n",
            "\n",
            "6) \u001b[31mOKANAGAN SIMILKAMEEN PARKS SOCIETY\u001b[0m(0.8611286878585815)\n",
            "OKANAGAN SIMILKAMEEN PARKS SOCIETY ECOSYSTEM MONITORINGBC SOUTH OKANAGAN PROTECTED AREAS ACTIONS TOWARDS ACHIEVING FULL PARK STATUS (BRENT MOUNTAIN, GOAL 2 AREAS) SUMMERLAND\n",
            "\n",
            "\n",
            "7) \u001b[31mHancock Wildlife Foundation\u001b[0m(0.8608299493789673)\n",
            "Hancock Wildlife Foundation HANCOCK WILDLIFE FOUNDATION (HWF): BROADCASTS LIVE, STREAMING VIDEOS OF EAGLES, FISH, ESTUARY LIFE AND OTHER BIRD SPECIES ON THE WORLD WIDE WEB; PROVIDES LECTURES ON EAGLES, CONSERVATION AND RELATED TOPICS IN SCHOOLS AND TO THE GENERAL PUBLIC THROUGHOUT BRITISH COLUMBIA AND OTHER LOCATIONS;PARTICIPATES IN WILDLIFE FESTIVALS IN BRITISH COLUMBIA AND OTHER LOCATIONS; SPONSORS RESEARCH PROJECTS ON BALD EAGLES; SUPPORTS STUDENTS IN STUDIES, PARTICULARLY BALD EAGLE RESEARCH; PARTICIPATES IN THE BALD EAGLE TRACKING ALLIANCE, ALONG WITH OTHER EXPERTS, TO TRACK EAGLES TO ASSESS THEIR IMPACT ON ECOSYSTEMS AS THE TOP PREDATOR; STUDIES NESTING DISTRIBUTION AND REPRODUCTIVE SUCCESS OF RAPTORS AND CONTRIBUTES TO MITIGATION PROJECTS. SURREY\n",
            "\n",
            "\n",
            "8) \u001b[31mDISCOVERY COAST GREENWAYS LAND TRUST\u001b[0m(0.8570981621742249)\n",
            "DISCOVERY COAST GREENWAYS LAND TRUST ESTABLISHING IN 1996, THE MISSION OF GREENWAYS LAND TRUST IS TO RESTORE, SUSTAIN AND PROTECT NATURAL AREAS AND CRITICAL HABITATS, PARTICULARLY ECOLOGICAL AND RECREATIONAL GREENWAYS, FOR THE BENEFIT OF OUR COMMUNITY. OUR VOLUNTEER BOARD IS ACTIVE IN CHAMPIONING ENVIRONMENTAL PROJECTS AND COLLABORATING WITH PARTNERS. GREENWAYS HAS AN EXCELLENT TRACK RECORD IN FACILITATING VOLUNTEERING AND STEWARDSHIP AMONG COMMUNITY MEMBERS AND SCHOOL STUDENTS, AND LAST YEAR, VOLUNTEERS CONTRIBUTED OVER 5,000 HOURS TOWARDSS OUR COMMUNITY STEWARDSHIP PROJECTS. WE ARE COMMITTED TO ENGAGING OUR COMMUNITY THROUGH PROVIDING OPPORTUNITIES FOR VOLUNEERISM AND SHARING OUR WORK WITH OUR COMMUNITY THROUGH LOCAL AND SOCIAL MEDIA, AN EMAIL NEWSLETTER, AND ATTENDING COMMUNITY EVENTS. OUR CURRENT WORK INCLUDES SEVERAL PROJECTS IN THE CAMPBELL RIVER ESTUARY, INCLUDING RESTORATION OF BAIKIE ISLAND, RESEARCH ON THE IMPACTS OF NON-NATIVE CANADA GEESE, AND MANAGING INVASIVE SPECIES. WE ALSO CARRY OUT RESTORATION FOR OUR LOCAL POPULATIONS OF ENDANGERED DELTOID BALSAMROOT ON THE TYEE SPIT. OUR OTHER PROJECTS INCLUDE RIPARIAN AND FORESHORE RESTORATION WITH SCHOOL STUDENTS, SUPPORTING OUR LOCAL STEREAMKEEPER GROUNDS, GUIDING THE WORK OF THE STRATHCONA FOOD SECURITY NETWORK, A FRUIT TREE GLEANING PROJECT, AND MAINTAINING TRAILS IN THE BEAVER LODGE FOREST LANDS WITH OUR ADOPT-A-TRAIL PROGRAM CAMPBELL RIVER\n",
            "\n",
            "\n",
            "9) \u001b[31mFORT NELSON ALLIANCE CHURCH\u001b[0m(0.8517448902130127)\n",
            "FORT NELSON ALLIANCE CHURCH SUNDAY SCHOOL, CHURCH SERVICES, BIBLE STUDIES, MENS GROUPS, WOMENS GROUPS, JUNIOR HIGH SCHOOL GROUPS, SENIOR HIGH SCHOOL GROUPS, YOUTH GROUPS, ADULT GROUPS, YOUNG MARRIED GROUPS, FAMILY GROUPS FORT NELSON\n",
            "\n",
            "\n",
            "10) \u001b[31mBETHEL GOSPEL MISSION\u001b[0m(0.8455222845077515)\n",
            "BETHEL GOSPEL MISSION WEEKLY SUNDAY / TUESDAY MEETINGS TO ENCOURAGE THE GROWTH OF THE CHRISTIAN FAITH. ADULT AND CHILDREN'S BIBLE STUDY DONATIONS TO VISITING PASTORS VANCOUVER\n",
            "\n",
            "\n"
          ],
          "name": "stdout"
        }
      ]
    }
  ]
}